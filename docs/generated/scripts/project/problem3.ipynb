{
  "cells": [
    {
      "cell_type": "code",
      "execution_count": null,
      "metadata": {
        "collapsed": false
      },
      "outputs": [],
      "source": [
        "%matplotlib inline"
      ]
    },
    {
      "cell_type": "markdown",
      "metadata": {},
      "source": [
        "\nProblem 3 : Robust optimization\n"
      ]
    },
    {
      "cell_type": "code",
      "execution_count": null,
      "metadata": {
        "collapsed": false
      },
      "outputs": [],
      "source": [
        "from numpy import array\nimport pickle\nfrom pathlib import Path\n\nfrom lh2pac.gemseo.discipline import H2TurboFan\nfrom lh2pac.gemseo.utils import draw_aircraft\nfrom lh2pac.gemseo.utils import get_aircraft_data\n\nfrom gemseo import configure_logger\nfrom gemseo import configure\nfrom gemseo import create_surrogate\nfrom gemseo import create_scenario\nfrom gemseo.algos.design_space import DesignSpace\nfrom gemseo.mlearning.quality_measures.r2_measure import R2Measure\nfrom gemseo.mlearning.quality_measures.rmse_measure import RMSEMeasure\nfrom gemseo.algos.parameter_space import ParameterSpace\nfrom gemseo_umdo.scenarios.umdo_scenario import UMDOScenario\nfrom gemseo_umdo.scenarios.udoe_scenario import UDOEScenario\n\n\nfrom lh2pac.marilib.utils import unit\n\nconfigure(activate_discipline_counters=False, activate_function_counters=False, activate_progress_bar=True, activate_discipline_cache=False, check_input_data=False, check_output_data=False, check_desvars_bounds=False)"
      ]
    },
    {
      "cell_type": "markdown",
      "metadata": {},
      "source": [
        "## Airplane initialization\nFirst, we instantiate the discipline:\n\n"
      ]
    },
    {
      "cell_type": "code",
      "execution_count": null,
      "metadata": {
        "collapsed": false
      },
      "outputs": [],
      "source": [
        "discipline = H2TurboFan()"
      ]
    },
    {
      "cell_type": "markdown",
      "metadata": {},
      "source": [
        "Then,\nwe can have a look at its input names:\n\n"
      ]
    },
    {
      "cell_type": "code",
      "execution_count": null,
      "metadata": {
        "collapsed": false
      },
      "outputs": [],
      "source": [
        "discipline.get_input_data_names()"
      ]
    },
    {
      "cell_type": "markdown",
      "metadata": {},
      "source": [
        "output names:\n\n"
      ]
    },
    {
      "cell_type": "code",
      "execution_count": null,
      "metadata": {
        "collapsed": false
      },
      "outputs": [],
      "source": [
        "output_parameters = discipline.get_output_data_names()\nprint(output_parameters)"
      ]
    },
    {
      "cell_type": "markdown",
      "metadata": {},
      "source": [
        "and default input values:\n\n"
      ]
    },
    {
      "cell_type": "code",
      "execution_count": null,
      "metadata": {
        "collapsed": false
      },
      "outputs": [],
      "source": [
        "discipline.default_inputs"
      ]
    },
    {
      "cell_type": "markdown",
      "metadata": {},
      "source": [
        "and execute the discipline with these values:\n\n"
      ]
    },
    {
      "cell_type": "code",
      "execution_count": null,
      "metadata": {
        "collapsed": false
      },
      "outputs": [],
      "source": [
        "discipline.execute()"
      ]
    },
    {
      "cell_type": "markdown",
      "metadata": {},
      "source": [
        "We can print the aircraft data:\n\n"
      ]
    },
    {
      "cell_type": "code",
      "execution_count": null,
      "metadata": {
        "collapsed": false
      },
      "outputs": [],
      "source": [
        "aircraft_data = get_aircraft_data(discipline)\nprint(aircraft_data)"
      ]
    },
    {
      "cell_type": "markdown",
      "metadata": {},
      "source": [
        "and draw the aircraft:\n\n"
      ]
    },
    {
      "cell_type": "code",
      "execution_count": null,
      "metadata": {
        "collapsed": false
      },
      "outputs": [],
      "source": [
        "draw_aircraft(discipline, \"The default A/C\")"
      ]
    },
    {
      "cell_type": "markdown",
      "metadata": {},
      "source": [
        "## Design of experiment\nWe want to sample design and uncertain parameters.\nso, we create the design space for design parameters $x$ and uncertain parameters $u$.\n\n"
      ]
    },
    {
      "cell_type": "code",
      "execution_count": null,
      "metadata": {
        "collapsed": false
      },
      "outputs": [],
      "source": [
        "configure_logger()\nwith Path(\"design_parameters.pkl\").open(\"rb\") as f:\n    optimized_design_parameters = pickle.load(f)\n\nprint(optimized_design_parameters)\n\nclass SurroDesignSpace(DesignSpace):\n    def __init__(self):\n        super().__init__(name=\"design_parameters_space\")\n        self.add_variable(\"thrust\", l_b=unit.N_kN(100), u_b=unit.N_kN(150), value=optimized_design_parameters['thrust'])\n        self.add_variable(\"bpr\", l_b=5, u_b=12, value=optimized_design_parameters['bpr'])\n        self.add_variable(\"area\", l_b=120, u_b=200, value=optimized_design_parameters['area'])\n        self.add_variable(\"aspect_ratio\", l_b=7, u_b=12, value=optimized_design_parameters['aspect_ratio'])\n        self.add_variable(\"tgi\", l_b=0.25, u_b=0.305, value=0.3)\n        self.add_variable(\"tvi\", l_b=0.8, u_b=0.85, value=0.845)\n        self.add_variable(\"sfc\", l_b=0.99, u_b=1.03, value=1.0)\n        self.add_variable(\"mass\", l_b=0.99, u_b=1.03, value=1.0)\n        self.add_variable(\"drag\", l_b=0.99, u_b=1.03, value=1.0)\n\nsurro_design_space = SurroDesignSpace()"
      ]
    },
    {
      "cell_type": "markdown",
      "metadata": {},
      "source": [
        "Then, we create a `DOEScenario` from this\ndiscipline and this design space:\n\n"
      ]
    },
    {
      "cell_type": "code",
      "execution_count": null,
      "metadata": {
        "collapsed": false
      },
      "outputs": [],
      "source": [
        "disciplines = [discipline]\nscenario = create_scenario(\n    disciplines, \"DisciplinaryOpt\", output_parameters[0], surro_design_space, scenario_type=\"DOE\"\n)\nfor parameter in  output_parameters[1:] :\n    scenario.add_observable(parameter)"
      ]
    },
    {
      "cell_type": "markdown",
      "metadata": {},
      "source": [
        "We run the sampling scenario\n\n"
      ]
    },
    {
      "cell_type": "code",
      "execution_count": null,
      "metadata": {
        "collapsed": false
      },
      "outputs": [],
      "source": [
        "scenario.execute({\"algo\": \"OT_OPT_LHS\", \"n_samples\": 100})\ndataset = scenario.to_dataset(opt_naming=False)\ndataset"
      ]
    },
    {
      "cell_type": "markdown",
      "metadata": {},
      "source": [
        "## Surrogate modeling\nWe create the surrogate discipline using an RBF model\n\n"
      ]
    },
    {
      "cell_type": "code",
      "execution_count": null,
      "metadata": {
        "collapsed": false
      },
      "outputs": [],
      "source": [
        "surrogate_discipline = create_surrogate(\"RBFRegressor\", dataset)"
      ]
    },
    {
      "cell_type": "markdown",
      "metadata": {},
      "source": [
        "We assess the regression model\nwith the R2 measure for instance:\n\n"
      ]
    },
    {
      "cell_type": "code",
      "execution_count": null,
      "metadata": {
        "collapsed": false
      },
      "outputs": [],
      "source": [
        "r2 = R2Measure(surrogate_discipline.regression_model, True)\nprint('R2 errors')\nprint('learning measure')\nprint(r2.compute_learning_measure())\nprint('validation measure')\nprint(r2.compute_cross_validation_measure())"
      ]
    },
    {
      "cell_type": "markdown",
      "metadata": {},
      "source": [
        "and with the root mean squared error:\n\n"
      ]
    },
    {
      "cell_type": "code",
      "execution_count": null,
      "metadata": {
        "collapsed": false
      },
      "outputs": [],
      "source": [
        "rmse = RMSEMeasure(surrogate_discipline.regression_model, True)\nprint('RMSE measure')\nprint('learning measure')\nprint(rmse.compute_learning_measure())\nprint('validation measure')\nprint(rmse.compute_cross_validation_measure())"
      ]
    },
    {
      "cell_type": "markdown",
      "metadata": {},
      "source": [
        "## Robust Optimization\nNow we want to minimize the maximum take-off weight even in the worst case scenario of technological parameters.\n\nFirst, we create the design space\n\n"
      ]
    },
    {
      "cell_type": "code",
      "execution_count": null,
      "metadata": {
        "collapsed": false
      },
      "outputs": [],
      "source": [
        "class MyDesignSpace(DesignSpace):\n    def __init__(self):\n        super().__init__(name=\"design_parameters_space\")\n        self.add_variable(\"thrust\", l_b=unit.N_kN(100), u_b=unit.N_kN(150), value=optimized_design_parameters['thrust'])\n        self.add_variable(\"bpr\", l_b=5, u_b=12, value=optimized_design_parameters['bpr'])\n        self.add_variable(\"area\", l_b=120, u_b=200, value=optimized_design_parameters['area'])\n        self.add_variable(\"aspect_ratio\", l_b=7, u_b=12, value=optimized_design_parameters['aspect_ratio'])\ndesign_space = MyDesignSpace()"
      ]
    },
    {
      "cell_type": "markdown",
      "metadata": {},
      "source": [
        "we create the parameter space for technological parameters $u$      \n\n"
      ]
    },
    {
      "cell_type": "code",
      "execution_count": null,
      "metadata": {
        "collapsed": false
      },
      "outputs": [],
      "source": [
        "class MyUncertainSpace(ParameterSpace):\n    def __init__(self):\n        super().__init__()\n        self.add_random_variable(\"tgi\", \"SPTriangularDistribution\", minimum=0.25,mode=0.3, maximum=0.305)\n        self.add_random_variable(\"tvi\", \"SPTriangularDistribution\", minimum=0.8,mode=0.845, maximum=0.85)\n        self.add_random_variable(\"sfc\", \"SPTriangularDistribution\", minimum=0.99,mode=1.0, maximum=1.03)\n        self.add_random_variable(\"mass\", \"SPTriangularDistribution\", minimum=0.99,mode=1.0, maximum=1.03)\n        self.add_random_variable(\"drag\", \"SPTriangularDistribution\", minimum=0.99,mode=1.0, maximum=1.03)\n        \nuncertain_space = MyUncertainSpace()"
      ]
    },
    {
      "cell_type": "markdown",
      "metadata": {},
      "source": [
        "we create a `UMDOScenario` from the surrogate, the\ndiscipline and the design space and parameter space.\nWe used Monte Carlo method to estimate uncertain parameters mean.\n\n"
      ]
    },
    {
      "cell_type": "code",
      "execution_count": null,
      "metadata": {
        "collapsed": false
      },
      "outputs": [],
      "source": [
        "disciplines = [surrogate_discipline]\n\"\"\"\nscenario = UMDOScenario(\n    disciplines, \"DisciplinaryOpt\", output_parameters[0], design_space, uncertain_space,\n    objective_statistic_name=\"Margin\",\n    statistic_estimation=\"Sampling\", statistic_estimation_parameters={\"n_samples\": 30},\n)\n\"\"\"\nscenario = UMDOScenario(disciplines, \"DisciplinaryOpt\", \"mtow\", design_space, uncertain_space, \n                        objective_statistic_name=\"Mean\", statistic_estimation=\"Sampling\",\n                        statistic_estimation_parameters={\n                            \"algo\": \"OT_MONTE_CARLO\",\n                            \"n_samples\": 500,\n                            \"seed\": 22\n                        }) \n\nfor parameter in  output_parameters[1:] :\n    scenario.add_observable(parameter, statistic_name=\"Mean\")"
      ]
    },
    {
      "cell_type": "markdown",
      "metadata": {},
      "source": [
        "we then add constraints\n\n"
      ]
    },
    {
      "cell_type": "code",
      "execution_count": null,
      "metadata": {
        "collapsed": false
      },
      "outputs": [],
      "source": [
        "scenario.add_constraint(\"tofl\", constraint_type=\"ineq\", positive=False, value=2200, statistic_name=\"Margin\", factor=2)\nscenario.add_constraint(\"vapp\", constraint_type=\"ineq\", positive=False, value=unit.mps_kt(137), statistic_name=\"Margin\", factor=2)\nscenario.add_constraint(\"vz_mcl\", constraint_type=\"ineq\", positive=True, value=unit.mps_ftpmin(300), statistic_name=\"Margin\", factor=2)\nscenario.add_constraint(\"vz_mcr\", constraint_type=\"ineq\", positive=True, value=unit.mps_ftpmin(0), statistic_name=\"Margin\", factor=2)\nscenario.add_constraint(\"oei_path\", constraint_type=\"ineq\", positive=True, value=0.011, statistic_name=\"Margin\", factor=2)\nscenario.add_constraint(\"ttc\", constraint_type=\"ineq\", positive=False, value=unit.s_min(25), statistic_name=\"Margin\", factor=2)\nscenario.add_constraint(\"far\", constraint_type=\"ineq\", positive=False, value=13.4, statistic_name=\"Margin\", factor=2)"
      ]
    },
    {
      "cell_type": "markdown",
      "metadata": {},
      "source": [
        "Now,\nwe execute the discipline with a nonlinearly constrained gradient-based optimizer\n\n"
      ]
    },
    {
      "cell_type": "code",
      "execution_count": null,
      "metadata": {
        "collapsed": false
      },
      "outputs": [],
      "source": [
        "scenario.set_differentiation_method(\"finite_differences\")\nscenario.execute({\"algo\": \"NLOPT_SLSQP\", \n                  \"max_iter\": 50, \n                  \"ineq_tolerance\": 1e-3,\n                  \"ctol_abs\": 1e-2})"
      ]
    },
    {
      "cell_type": "markdown",
      "metadata": {},
      "source": [
        "## Visualization\nand plot the history:\n\n"
      ]
    },
    {
      "cell_type": "code",
      "execution_count": null,
      "metadata": {
        "collapsed": false
      },
      "outputs": [],
      "source": [
        "scenario.post_process(\"OptHistoryView\", save=True, show=True)"
      ]
    },
    {
      "cell_type": "markdown",
      "metadata": {},
      "source": [
        "We can print and draw the optimized aircraft design:\n\n"
      ]
    },
    {
      "cell_type": "code",
      "execution_count": null,
      "metadata": {
        "collapsed": false
      },
      "outputs": [],
      "source": [
        "print(surrogate_discipline.get_input_data())\ndraw_aircraft(surrogate_discipline.get_input_data(), \"The optimized A/C\")"
      ]
    },
    {
      "cell_type": "markdown",
      "metadata": {},
      "source": [
        "and execute the discipline with these values:\n\n"
      ]
    },
    {
      "cell_type": "code",
      "execution_count": null,
      "metadata": {
        "collapsed": false
      },
      "outputs": [],
      "source": [
        "output_dict = discipline.execute(surrogate_discipline.get_input_data())\nfor key in output_dict.keys() :\n    print(str(key) + ' : ' + str(output_dict[key][0]))"
      ]
    }
  ],
  "metadata": {
    "kernelspec": {
      "display_name": "Python 3",
      "language": "python",
      "name": "python3"
    },
    "language_info": {
      "codemirror_mode": {
        "name": "ipython",
        "version": 3
      },
      "file_extension": ".py",
      "mimetype": "text/x-python",
      "name": "python",
      "nbconvert_exporter": "python",
      "pygments_lexer": "ipython3",
      "version": "3.10.0"
    }
  },
  "nbformat": 4,
  "nbformat_minor": 0
}