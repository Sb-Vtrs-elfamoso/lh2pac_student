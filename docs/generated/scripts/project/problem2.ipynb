{
  "cells": [
    {
      "cell_type": "code",
      "execution_count": null,
      "metadata": {
        "collapsed": false
      },
      "outputs": [],
      "source": [
        "%matplotlib inline"
      ]
    },
    {
      "cell_type": "markdown",
      "metadata": {},
      "source": [
        "\nProblem 2 : Uncertainty quantification\n"
      ]
    },
    {
      "cell_type": "code",
      "execution_count": null,
      "metadata": {
        "collapsed": false
      },
      "outputs": [],
      "source": [
        "from numpy import array\nimport pickle\nfrom pathlib import Path\n\nfrom lh2pac.gemseo.discipline import H2TurboFan\nfrom lh2pac.gemseo.utils import draw_aircraft\nfrom lh2pac.gemseo.utils import get_aircraft_data\nfrom gemseo import configure_logger\nfrom gemseo import create_scenario\nfrom gemseo import create_surrogate\nfrom gemseo import import_discipline\nfrom gemseo.algos.design_space import DesignSpace\nfrom gemseo.algos.parameter_space import ParameterSpace\nfrom gemseo.mlearning.quality_measures.r2_measure import R2Measure\nfrom gemseo.mlearning.quality_measures.rmse_measure import RMSEMeasure\nfrom gemseo_mlearning.api import sample_discipline\n\n\nfrom lh2pac.marilib.utils import unit\n\nconfigure_logger()"
      ]
    },
    {
      "cell_type": "code",
      "execution_count": null,
      "metadata": {
        "collapsed": false
      },
      "outputs": [],
      "source": [
        "# ## Airplane initialization\n# First, we instantiate the discipline:\ndiscipline = H2TurboFan()"
      ]
    },
    {
      "cell_type": "markdown",
      "metadata": {},
      "source": [
        "Then,\nwe can have a look at its input names:\n\n"
      ]
    },
    {
      "cell_type": "code",
      "execution_count": null,
      "metadata": {
        "collapsed": false
      },
      "outputs": [],
      "source": [
        "print('input data names : ')\nprint(discipline.get_input_data_names())"
      ]
    },
    {
      "cell_type": "code",
      "execution_count": null,
      "metadata": {
        "collapsed": false
      },
      "outputs": [],
      "source": [
        "output_parameters = discipline.get_output_data_names()\nprint('output params :')\nprint(output_parameters)"
      ]
    },
    {
      "cell_type": "code",
      "execution_count": null,
      "metadata": {
        "collapsed": false
      },
      "outputs": [],
      "source": [
        "# and default input values:\nprint('default inputs :')\nprint(discipline.default_inputs)"
      ]
    },
    {
      "cell_type": "code",
      "execution_count": null,
      "metadata": {
        "collapsed": false
      },
      "outputs": [],
      "source": [
        "# and execute the discipline with these values:\ndiscipline.execute()"
      ]
    },
    {
      "cell_type": "code",
      "execution_count": null,
      "metadata": {
        "collapsed": false
      },
      "outputs": [],
      "source": [
        "# We can print the aircraft data:\naircraft_data = get_aircraft_data(discipline)\n\n# aircraft data \nprint('aircraft data : ')\nprint(aircraft_data)"
      ]
    },
    {
      "cell_type": "code",
      "execution_count": null,
      "metadata": {
        "collapsed": false
      },
      "outputs": [],
      "source": [
        "# and draw the aircraft:\ndraw_aircraft(discipline, \"The default A/C\")"
      ]
    },
    {
      "cell_type": "code",
      "execution_count": null,
      "metadata": {
        "collapsed": false
      },
      "outputs": [],
      "source": [
        "class MyUncertainSpace(ParameterSpace):\n    def __init__(self):\n        super().__init__()\n        self.add_random_variable(\"tgi\", \"SPTriangularDistribution\", minimum=0.25,mode=0.3, maximum=0.305)\n        self.add_random_variable(\"tvi\", \"SPTriangularDistribution\", minimum=0.8,mode=0.845, maximum=0.85)\n        self.add_random_variable(\"sfc\", \"SPTriangularDistribution\", minimum=0.99,mode=1.0, maximum=1.03)\n        self.add_random_variable(\"mass\", \"SPTriangularDistribution\", minimum=0.99,mode=1.0, maximum=1.03)\n        self.add_random_variable(\"drag\", \"SPTriangularDistribution\", minimum=0.99,mode=1.0, maximum=1.03)"
      ]
    },
    {
      "cell_type": "code",
      "execution_count": null,
      "metadata": {
        "collapsed": false
      },
      "outputs": [],
      "source": [
        "uncertain_space = MyUncertainSpace()\nprint(uncertain_space)"
      ]
    },
    {
      "cell_type": "code",
      "execution_count": null,
      "metadata": {
        "collapsed": false
      },
      "outputs": [],
      "source": [
        "dataset = sample_discipline(discipline, uncertain_space, ['mtow'], \"OT_MONTE_CARLO\", 100)"
      ]
    },
    {
      "cell_type": "code",
      "execution_count": null,
      "metadata": {
        "collapsed": false
      },
      "outputs": [],
      "source": [
        "from gemseo.uncertainty import create_statistics\nstatistics = create_statistics(dataset)\nmean = statistics.compute_mean()\nvariance = statistics.compute_variance()\nnames = [\"mtow\",\"tgi\",\"tvi\",\"sfc\",\"mass\",\"drag\"]\nfor name in names:\n    print(name, mean[name][0], variance[name][0])"
      ]
    },
    {
      "cell_type": "code",
      "execution_count": null,
      "metadata": {
        "collapsed": false
      },
      "outputs": [],
      "source": [
        "import matplotlib.pyplot as plt\nfig, axes = plt.subplots(2, 3,figsize = (15,10))\nfor i,(ax, name) in enumerate(zip(axes.flatten(), names)):\n    ax.hist(dataset.get_view(variable_names=name),bins=20,)\n    ax.set_title(name)\nplt.show()"
      ]
    },
    {
      "cell_type": "markdown",
      "metadata": {},
      "source": [
        "# compute Sobol indices\n\n"
      ]
    },
    {
      "cell_type": "code",
      "execution_count": null,
      "metadata": {
        "collapsed": false
      },
      "outputs": [],
      "source": [
        "from gemseo.uncertainty.sensitivity.sobol.analysis import SobolAnalysis\n\nsobol = SobolAnalysis([discipline],uncertain_space,100)\nsobol.compute_indices()"
      ]
    },
    {
      "cell_type": "code",
      "execution_count": null,
      "metadata": {
        "collapsed": false
      },
      "outputs": [],
      "source": [
        "import pprint\npprint.pprint(sobol.first_order_indices)\npprint.pprint(sobol.total_order_indices)"
      ]
    },
    {
      "cell_type": "code",
      "execution_count": null,
      "metadata": {
        "collapsed": false
      },
      "outputs": [],
      "source": [
        "sobol.plot(\"mtow\",save=False,show=True)"
      ]
    },
    {
      "cell_type": "markdown",
      "metadata": {},
      "source": [
        "# sobol for surrogate model \n\n"
      ]
    },
    {
      "cell_type": "code",
      "execution_count": null,
      "metadata": {
        "collapsed": false
      },
      "outputs": [],
      "source": [
        "dataset_surro = sample_discipline(\n    discipline,\n    uncertain_space,\n    [\"mtow\"],\n    \"OT_OPT_LHS\",\n    30\n)\n    # %%\nregressors = [\n    \"GaussianProcessRegressor\",\n    \"GradientBoostingRegressor\",\n    \"LinearRegressor\",\n    \"MLPRegressor\",\n    \"MOERegressor\",\n    \"OTGaussianProcessRegressor\",\n    \"PCERegressor\",\n    \"PolynomialRegressor\",\n    \"RBFRegressor\",\n    \"RandomForestRegressor\",\n    \"RegressorChain\",\n    \"SVMRegressor\",\n    \"TPSRegressor\"\n]\nsurrogate_discipline = create_surrogate(\"RBFRegressor\",dataset_surro)\nprint(surrogate_discipline)"
      ]
    },
    {
      "cell_type": "code",
      "execution_count": null,
      "metadata": {
        "collapsed": false
      },
      "outputs": [],
      "source": [
        "sobol = SobolAnalysis([surrogate_discipline],uncertain_space,10000)\nsobol.compute_indices()"
      ]
    },
    {
      "cell_type": "code",
      "execution_count": null,
      "metadata": {
        "collapsed": false
      },
      "outputs": [],
      "source": [
        "import pprint\npprint.pprint(sobol.first_order_indices)\npprint.pprint(sobol.total_order_indices)"
      ]
    },
    {
      "cell_type": "code",
      "execution_count": null,
      "metadata": {
        "collapsed": false
      },
      "outputs": [],
      "source": [
        "sobol.plot(\"mtow\",save=False,show=True)"
      ]
    },
    {
      "cell_type": "markdown",
      "metadata": {},
      "source": [
        "# Morris Analysis \n\n"
      ]
    },
    {
      "cell_type": "code",
      "execution_count": null,
      "metadata": {
        "collapsed": false
      },
      "outputs": [],
      "source": [
        "from gemseo.uncertainty.sensitivity.morris.analysis import MorrisAnalysis\nmorris_analysis = MorrisAnalysis([discipline], uncertain_space, 100)\nmorris_analysis.compute_indices()"
      ]
    },
    {
      "cell_type": "code",
      "execution_count": null,
      "metadata": {
        "collapsed": false
      },
      "outputs": [],
      "source": [
        "surrogate_morris_analysis = MorrisAnalysis([surrogate_discipline],uncertain_space,100)\nsurrogate_morris_analysis.compute_indices()"
      ]
    },
    {
      "cell_type": "code",
      "execution_count": null,
      "metadata": {
        "collapsed": false
      },
      "outputs": [],
      "source": [
        "morris_analysis.plot(\"mtow\",save=False,show=True)"
      ]
    },
    {
      "cell_type": "code",
      "execution_count": null,
      "metadata": {
        "collapsed": false
      },
      "outputs": [],
      "source": [
        "surrogate_morris_analysis.plot(\"mtow\",save=False,show=True)"
      ]
    }
  ],
  "metadata": {
    "kernelspec": {
      "display_name": "Python 3",
      "language": "python",
      "name": "python3"
    },
    "language_info": {
      "codemirror_mode": {
        "name": "ipython",
        "version": 3
      },
      "file_extension": ".py",
      "mimetype": "text/x-python",
      "name": "python",
      "nbconvert_exporter": "python",
      "pygments_lexer": "ipython3",
      "version": "3.10.0"
    }
  },
  "nbformat": 4,
  "nbformat_minor": 0
}