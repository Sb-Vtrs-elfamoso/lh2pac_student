{
  "cells": [
    {
      "cell_type": "code",
      "execution_count": null,
      "metadata": {
        "collapsed": false
      },
      "outputs": [],
      "source": [
        "%matplotlib inline"
      ]
    },
    {
      "cell_type": "markdown",
      "metadata": {},
      "source": [
        "\nSurrogate modeling\n"
      ]
    },
    {
      "cell_type": "code",
      "execution_count": null,
      "metadata": {
        "collapsed": false
      },
      "outputs": [],
      "source": [
        "from numpy import array\nimport pickle\nfrom pathlib import Path\n\nfrom lh2pac.gemseo.discipline import H2TurboFan\nfrom lh2pac.gemseo.utils import draw_aircraft\nfrom lh2pac.gemseo.utils import get_aircraft_data\n\nfrom gemseo import configure_logger\nfrom gemseo import create_scenario\nfrom gemseo import create_surrogate\nfrom gemseo import import_discipline\nfrom gemseo import configure\nfrom gemseo.algos.design_space import DesignSpace\nfrom gemseo.mlearning.quality_measures.r2_measure import R2Measure\nfrom gemseo.mlearning.quality_measures.rmse_measure import RMSEMeasure\nfrom gemseo.uncertainty.sensitivity.sobol.analysis import SobolAnalysis\nfrom lh2pac.marilib.utils import unit"
      ]
    },
    {
      "cell_type": "markdown",
      "metadata": {},
      "source": [
        "## D\u00e9sactivations des fonctionnalit\u00e9s non utlis\u00e9es de Gemseo\n\n"
      ]
    },
    {
      "cell_type": "code",
      "execution_count": null,
      "metadata": {
        "collapsed": false
      },
      "outputs": [],
      "source": [
        "#configure(activate_discipline_counters=False, activate_function_counters=False, activate_progress_bar=True, activate_discipline_cache=True, check_input_data=False, check_output_data=False, check_desvars_bounds=False)"
      ]
    },
    {
      "cell_type": "markdown",
      "metadata": {},
      "source": [
        "## Airplane initialization\nFirst, we instantiate the discipline:\n\n"
      ]
    },
    {
      "cell_type": "code",
      "execution_count": null,
      "metadata": {
        "collapsed": false
      },
      "outputs": [],
      "source": [
        "discipline = H2TurboFan()"
      ]
    },
    {
      "cell_type": "markdown",
      "metadata": {},
      "source": [
        "Then,\nwe can have a look at its input names:\n\n"
      ]
    },
    {
      "cell_type": "code",
      "execution_count": null,
      "metadata": {
        "collapsed": false
      },
      "outputs": [],
      "source": [
        "discipline.get_input_data_names()"
      ]
    },
    {
      "cell_type": "markdown",
      "metadata": {},
      "source": [
        "output names:\n\n"
      ]
    },
    {
      "cell_type": "code",
      "execution_count": null,
      "metadata": {
        "collapsed": false
      },
      "outputs": [],
      "source": [
        "output_parameters = discipline.get_output_data_names()\nprint(output_parameters)"
      ]
    },
    {
      "cell_type": "markdown",
      "metadata": {},
      "source": [
        "and default input values:\n\n"
      ]
    },
    {
      "cell_type": "code",
      "execution_count": null,
      "metadata": {
        "collapsed": false
      },
      "outputs": [],
      "source": [
        "discipline.default_inputs"
      ]
    },
    {
      "cell_type": "markdown",
      "metadata": {},
      "source": [
        "and execute the discipline with these values:\n\n"
      ]
    },
    {
      "cell_type": "code",
      "execution_count": null,
      "metadata": {
        "collapsed": false
      },
      "outputs": [],
      "source": [
        "discipline.execute()"
      ]
    },
    {
      "cell_type": "markdown",
      "metadata": {},
      "source": [
        "We can print the aircraft data:\n\n"
      ]
    },
    {
      "cell_type": "code",
      "execution_count": null,
      "metadata": {
        "collapsed": false
      },
      "outputs": [],
      "source": [
        "aircraft_data = get_aircraft_data(discipline)\nprint(aircraft_data)"
      ]
    },
    {
      "cell_type": "markdown",
      "metadata": {},
      "source": [
        "and draw the aircraft:\n\n"
      ]
    },
    {
      "cell_type": "code",
      "execution_count": null,
      "metadata": {
        "collapsed": false
      },
      "outputs": [],
      "source": [
        "draw_aircraft(discipline, \"The default A/C\")"
      ]
    },
    {
      "cell_type": "markdown",
      "metadata": {},
      "source": [
        "## Design of experiment\nwe activate the logger.\n\n"
      ]
    },
    {
      "cell_type": "code",
      "execution_count": null,
      "metadata": {
        "collapsed": false
      },
      "outputs": [],
      "source": [
        "configure_logger()\n\n# we create the design space for design parameters $x$ :\nclass MyDesignSpace(DesignSpace):\n    def __init__(self):\n        super().__init__(name=\"foo\")\n        self.add_variable(\"thrust\", l_b=unit.N_kN(100), u_b=unit.N_kN(150))\n        self.add_variable(\"bpr\", l_b=5, u_b=12)\n        self.add_variable(\"area\", l_b=120, u_b=200)\n        self.add_variable(\"aspect_ratio\", l_b=7, u_b=12)\n\ndesign_space = MyDesignSpace()"
      ]
    },
    {
      "cell_type": "markdown",
      "metadata": {},
      "source": [
        "Thirdly,\nwe create a `DOEScenario` from this discipline and this design space:\n\n"
      ]
    },
    {
      "cell_type": "code",
      "execution_count": null,
      "metadata": {
        "collapsed": false
      },
      "outputs": [],
      "source": [
        "disciplines = [discipline]\nscenario = create_scenario(\n    disciplines, \"DisciplinaryOpt\", output_parameters[0], design_space, scenario_type=\"DOE\"\n)\nfor parameter in  output_parameters[1:] :\n    scenario.add_observable(parameter)"
      ]
    },
    {
      "cell_type": "markdown",
      "metadata": {},
      "source": [
        "Now,\nwe can sample the discipline to get 100 evaluations of the airplane parameters :\n\n"
      ]
    },
    {
      "cell_type": "code",
      "execution_count": null,
      "metadata": {
        "collapsed": false
      },
      "outputs": [],
      "source": [
        "scenario.execute({\"algo\": \"OT_OPT_LHS\", \"n_samples\": 100})"
      ]
    },
    {
      "cell_type": "markdown",
      "metadata": {},
      "source": [
        "Lastly,\nwe can export the result to an `IODataset`\nwhich is a subclass of `Dataset`,\nwhich is a subclass of `pandas.DataFrame`:\n\n"
      ]
    },
    {
      "cell_type": "code",
      "execution_count": null,
      "metadata": {
        "collapsed": false
      },
      "outputs": [],
      "source": [
        "dataset = scenario.to_dataset(opt_naming=False)\ndataset"
      ]
    },
    {
      "cell_type": "markdown",
      "metadata": {},
      "source": [
        "## Surrogate modeling\nbefore creating a surrogate discipline:\n\n"
      ]
    },
    {
      "cell_type": "code",
      "execution_count": null,
      "metadata": {
        "collapsed": false
      },
      "outputs": [],
      "source": [
        "surrogate_discipline = create_surrogate(\"RBFRegressor\", dataset)"
      ]
    },
    {
      "cell_type": "markdown",
      "metadata": {},
      "source": [
        "and using it for prediction:\n\n"
      ]
    },
    {
      "cell_type": "code",
      "execution_count": null,
      "metadata": {
        "collapsed": false
      },
      "outputs": [],
      "source": [
        "surrogate_discipline.execute({\"x\": array([1.0])})\nsurrogate_discipline.cache.last_entry"
      ]
    },
    {
      "cell_type": "markdown",
      "metadata": {},
      "source": [
        "This surrogate discipline can be used in a scenario.\nThe underlying regression model can also be assessed,\nwith the R2 measure for instance:\n\n"
      ]
    },
    {
      "cell_type": "code",
      "execution_count": null,
      "metadata": {
        "collapsed": false
      },
      "outputs": [],
      "source": [
        "r2 = R2Measure(surrogate_discipline.regression_model, True)\nprint(r2.compute_learning_measure())\nprint(r2.compute_cross_validation_measure())"
      ]
    },
    {
      "cell_type": "markdown",
      "metadata": {},
      "source": [
        "or with the root mean squared error:\n\n"
      ]
    },
    {
      "cell_type": "code",
      "execution_count": null,
      "metadata": {
        "collapsed": false
      },
      "outputs": [],
      "source": [
        "rmse = RMSEMeasure(surrogate_discipline.regression_model, True)\nprint(rmse.compute_learning_measure())\nprint(rmse.compute_cross_validation_measure())"
      ]
    },
    {
      "cell_type": "markdown",
      "metadata": {},
      "source": [
        "Saving model and testing\n\n"
      ]
    },
    {
      "cell_type": "code",
      "execution_count": null,
      "metadata": {
        "collapsed": false
      },
      "outputs": [],
      "source": [
        "with Path(\"my_surrogate.pkl\").open(\"wb\") as f:\n    pickle.dump(surrogate_discipline, f)\n\nsurrogate_discipline = import_discipline(\"my_surrogate.pkl\")\nsurrogate_discipline.execute({\"x\": array([1.0])})\nsurrogate_discipline.get_output_data()"
      ]
    },
    {
      "cell_type": "markdown",
      "metadata": {},
      "source": [
        "Thirdly,\nwe put these elements together in a scenario\nto minimize the Rosenbrock function\nunder the constraint that the distance\nbetween the design point and the solution of the unconstrained problem\nis greater or equal to 1.\n\n"
      ]
    },
    {
      "cell_type": "code",
      "execution_count": null,
      "metadata": {
        "collapsed": false
      },
      "outputs": [],
      "source": [
        "scenario_surrogate = create_scenario([surrogate_discipline], \"DisciplinaryOpt\", output_parameters[0], design_space)\nfor parameter in  output_parameters[1:] :\n    scenario.add_observable(parameter)\n\nscenario_surrogate.add_constraint(\"tofl\", constraint_type=\"ineq\", positive=False, value=2200)\nscenario_surrogate.add_constraint(\"vapp\", constraint_type=\"ineq\", positive=False, value=unit.mps_kt(137))\nscenario_surrogate.add_constraint(\"vz_mcl\", constraint_type=\"ineq\", positive=True, value=unit.mps_ftpmin(300))\nscenario_surrogate.add_constraint(\"vz_mcr\", constraint_type=\"ineq\", positive=True, value=unit.mps_ftpmin(0))\nscenario_surrogate.add_constraint(\"oei_path\", constraint_type=\"ineq\", positive=True, value=0.011)\nscenario_surrogate.add_constraint(\"ttc\", constraint_type=\"ineq\", positive=False, value=unit.s_min(25))\nscenario_surrogate.add_constraint(\"far\", constraint_type=\"ineq\", positive=False, value=13.4)"
      ]
    },
    {
      "cell_type": "markdown",
      "metadata": {},
      "source": [
        "before executing it with a gradient-free optimizer:\n\n"
      ]
    },
    {
      "cell_type": "code",
      "execution_count": null,
      "metadata": {
        "collapsed": false
      },
      "outputs": [],
      "source": [
        "scenario_surrogate.execute({\"algo\": \"NLOPT_COBYLA\", \"max_iter\": 1000})"
      ]
    },
    {
      "cell_type": "markdown",
      "metadata": {},
      "source": [
        "Lastly,\nwe can plot the optimization history:\n\n"
      ]
    },
    {
      "cell_type": "code",
      "execution_count": null,
      "metadata": {
        "collapsed": false
      },
      "outputs": [],
      "source": [
        "scenario_surrogate.post_process(\"OptHistoryView\", save=False, show=True)"
      ]
    },
    {
      "cell_type": "markdown",
      "metadata": {},
      "source": [
        "We can print the aircraft data:\n\n"
      ]
    },
    {
      "cell_type": "code",
      "execution_count": null,
      "metadata": {
        "collapsed": false
      },
      "outputs": [],
      "source": [
        "discipline.execute(surrogate_discipline.get_input_data())\naircraft_data = get_aircraft_data(discipline)\nprint(aircraft_data)"
      ]
    },
    {
      "cell_type": "markdown",
      "metadata": {},
      "source": [
        "and draw the aircraft:\n\n"
      ]
    },
    {
      "cell_type": "code",
      "execution_count": null,
      "metadata": {
        "collapsed": false
      },
      "outputs": [],
      "source": [
        "draw_aircraft(discipline, \"The optimized A/C\")"
      ]
    }
  ],
  "metadata": {
    "kernelspec": {
      "display_name": "Python 3",
      "language": "python",
      "name": "python3"
    },
    "language_info": {
      "codemirror_mode": {
        "name": "ipython",
        "version": 3
      },
      "file_extension": ".py",
      "mimetype": "text/x-python",
      "name": "python",
      "nbconvert_exporter": "python",
      "pygments_lexer": "ipython3",
      "version": "3.10.0"
    }
  },
  "nbformat": 4,
  "nbformat_minor": 0
}