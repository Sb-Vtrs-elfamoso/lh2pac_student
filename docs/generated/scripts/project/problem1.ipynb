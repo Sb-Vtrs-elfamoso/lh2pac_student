{
  "cells": [
    {
      "cell_type": "code",
      "execution_count": null,
      "metadata": {
        "collapsed": false
      },
      "outputs": [],
      "source": [
        "%matplotlib inline"
      ]
    },
    {
      "cell_type": "markdown",
      "metadata": {},
      "source": [
        "\nProblem 1 : Optimization\n\nHere, the objective was to find a way to minimize the maximum take-off weight `MTOW` of $g:x\\mapsto g(x)=f(x,u_{\\mathrm{default}})$.\n\nThe **design parameters**  $x$ are :\n\n- the engine maximum thrust  (100 kN \u2264 thrust \u2264 150 kN, default: 125 kN),\n- the engine bypass ratio  (BPR)  (5 \u2264 BPR \u2264 12, default: 8.5),\n- the wing area  (120 m\u00b2 \u2264 area \u2264 200 m\u00b2, default: 160 m\u00b2),\n- the wing aspect ratio  (7 \u2264 ar \u2264 12, default: 9.5).\n\nWe can rewrite our objectice as $\\min_{x}(\\mathbb{E}(g(x)_{mtow}))$\n\nWe aim to approximate the objective and constraints of the design problem with respect to the design parameters $x$.\n\nIn this case, using a surrogate model is very helpfull because it helps to reduce costs and time to find the optimal state of a system.\n"
      ]
    },
    {
      "cell_type": "code",
      "execution_count": null,
      "metadata": {
        "collapsed": false
      },
      "outputs": [],
      "source": [
        "from numpy import array\nimport pickle\nfrom pathlib import Path\nimport time\n\nfrom lh2pac.gemseo.discipline import H2TurboFan\nfrom lh2pac.gemseo.utils import draw_aircraft\nfrom lh2pac.gemseo.utils import get_aircraft_data\n\nfrom gemseo import configure_logger\nfrom gemseo import create_scenario\nfrom gemseo import create_surrogate\nfrom gemseo import import_discipline\nfrom gemseo import configure\nfrom gemseo.algos.design_space import DesignSpace\nfrom gemseo.mlearning.quality_measures.r2_measure import R2Measure\nfrom gemseo.mlearning.quality_measures.rmse_measure import RMSEMeasure\nfrom lh2pac.marilib.utils import unit\n\nconfigure(activate_discipline_counters=False, activate_function_counters=False, activate_progress_bar=True, activate_discipline_cache=True, check_input_data=False, check_output_data=False, check_desvars_bounds=False)"
      ]
    },
    {
      "cell_type": "markdown",
      "metadata": {},
      "source": [
        "## Airplane initialization\nFirst, we instantiate the discipline:\n\n"
      ]
    },
    {
      "cell_type": "code",
      "execution_count": null,
      "metadata": {
        "collapsed": false
      },
      "outputs": [],
      "source": [
        "discipline = H2TurboFan()"
      ]
    },
    {
      "cell_type": "markdown",
      "metadata": {},
      "source": [
        "Then, we can have a look at its input names:\n\n"
      ]
    },
    {
      "cell_type": "code",
      "execution_count": null,
      "metadata": {
        "collapsed": false
      },
      "outputs": [],
      "source": [
        "discipline.get_input_data_names()"
      ]
    },
    {
      "cell_type": "markdown",
      "metadata": {},
      "source": [
        "output names:\n\n"
      ]
    },
    {
      "cell_type": "code",
      "execution_count": null,
      "metadata": {
        "collapsed": false
      },
      "outputs": [],
      "source": [
        "output_parameters = discipline.get_output_data_names()\nprint(output_parameters)"
      ]
    },
    {
      "cell_type": "markdown",
      "metadata": {},
      "source": [
        "and default input values:\n\n"
      ]
    },
    {
      "cell_type": "code",
      "execution_count": null,
      "metadata": {
        "collapsed": false
      },
      "outputs": [],
      "source": [
        "discipline.default_inputs"
      ]
    },
    {
      "cell_type": "markdown",
      "metadata": {},
      "source": [
        "and execute the discipline with these values:\n\n"
      ]
    },
    {
      "cell_type": "code",
      "execution_count": null,
      "metadata": {
        "collapsed": false
      },
      "outputs": [],
      "source": [
        "discipline.execute()"
      ]
    },
    {
      "cell_type": "markdown",
      "metadata": {},
      "source": [
        "We can print and draw the aircraft data:\n\n"
      ]
    },
    {
      "cell_type": "code",
      "execution_count": null,
      "metadata": {
        "collapsed": false
      },
      "outputs": [],
      "source": [
        "aircraft_data = get_aircraft_data(discipline)\nprint(aircraft_data)\ndraw_aircraft(discipline, \"The default A/C\")"
      ]
    },
    {
      "cell_type": "markdown",
      "metadata": {},
      "source": [
        "## Optimization of the raw model\nWe want to otpimize the model according to its design parameters $x$.\nfisrt, we create the design space for design parameters $x$ :\n\n"
      ]
    },
    {
      "cell_type": "code",
      "execution_count": null,
      "metadata": {
        "collapsed": false
      },
      "outputs": [],
      "source": [
        "class MyDesignSpace(DesignSpace):\n    def __init__(self):\n        super().__init__(name=\"design_parameters_space\")\n        self.add_variable(\"thrust\", l_b=unit.N_kN(100), u_b=unit.N_kN(150))\n        self.add_variable(\"bpr\", l_b=5, u_b=12)\n        self.add_variable(\"area\", l_b=120, u_b=200)\n        self.add_variable(\"aspect_ratio\", l_b=7, u_b=12)\n\ndesign_space = MyDesignSpace()"
      ]
    },
    {
      "cell_type": "markdown",
      "metadata": {},
      "source": [
        "Then,we create a scenario\nto minimize the maximum take-off weight `MTOW`\nunder the constraints defined in the use case.\n\n"
      ]
    },
    {
      "cell_type": "code",
      "execution_count": null,
      "metadata": {
        "collapsed": false
      },
      "outputs": [],
      "source": [
        "scenario = create_scenario([discipline], \"DisciplinaryOpt\", \"mtow\", design_space)\nfor parameter in  output_parameters[1:] :\n    scenario.add_observable(parameter)\n\nscenario.add_constraint(\"tofl\", constraint_type=\"ineq\", positive=False, value=2200)\nscenario.add_constraint(\"vapp\", constraint_type=\"ineq\", positive=False, value=unit.mps_kt(137))\nscenario.add_constraint(\"vz_mcl\", constraint_type=\"ineq\", positive=True, value=unit.mps_ftpmin(300))\nscenario.add_constraint(\"vz_mcr\", constraint_type=\"ineq\", positive=True, value=unit.mps_ftpmin(0))\nscenario.add_constraint(\"oei_path\", constraint_type=\"ineq\", positive=True, value=0.011)\nscenario.add_constraint(\"ttc\", constraint_type=\"ineq\", positive=False, value=unit.s_min(25))\nscenario.add_constraint(\"far\", constraint_type=\"ineq\", positive=False, value=13.4)"
      ]
    },
    {
      "cell_type": "markdown",
      "metadata": {},
      "source": [
        "We execute it with a gradient-free optimizer:\n\n"
      ]
    },
    {
      "cell_type": "code",
      "execution_count": null,
      "metadata": {
        "collapsed": false
      },
      "outputs": [],
      "source": [
        "start_time = time.time()\nscenario.execute({\"algo\": \"NLOPT_COBYLA\", \"max_iter\": 1000})\nprint(\"--- %s seconds ---\" % (time.time() - start_time))"
      ]
    },
    {
      "cell_type": "markdown",
      "metadata": {},
      "source": [
        "Lastly,\nwe can visualize the optimization history:\n\n"
      ]
    },
    {
      "cell_type": "code",
      "execution_count": null,
      "metadata": {
        "collapsed": false
      },
      "outputs": [],
      "source": [
        "scenario.post_process(\"OptHistoryView\", save=False, show=True)"
      ]
    },
    {
      "cell_type": "markdown",
      "metadata": {},
      "source": [
        "We can print the optimized aircraft data:\n\n"
      ]
    },
    {
      "cell_type": "code",
      "execution_count": null,
      "metadata": {
        "collapsed": false
      },
      "outputs": [],
      "source": [
        "optimized_design_parameters = discipline.get_input_data()\nprint(optimized_design_parameters)"
      ]
    },
    {
      "cell_type": "markdown",
      "metadata": {},
      "source": [
        "and draw the aircraft:\n\n"
      ]
    },
    {
      "cell_type": "code",
      "execution_count": null,
      "metadata": {
        "collapsed": false
      },
      "outputs": [],
      "source": [
        "draw_aircraft(optimized_design_parameters, \"The optimized A/C\")"
      ]
    },
    {
      "cell_type": "markdown",
      "metadata": {},
      "source": [
        "However, this approach is too expensive,\nwe need to use a surrogate of the model\nto be able to find a good minimization of our objective.\n\n## Design of experiment\nWe create the design space for design parameters $x$ :\n\n"
      ]
    },
    {
      "cell_type": "code",
      "execution_count": null,
      "metadata": {
        "collapsed": false
      },
      "outputs": [],
      "source": [
        "configure_logger()\nclass MyDesignSpace(DesignSpace):\n    def __init__(self):\n        super().__init__(name=\"design_parameters_space\")\n        self.add_variable(\"thrust\", l_b=unit.N_kN(100), u_b=unit.N_kN(150))\n        self.add_variable(\"bpr\", l_b=5, u_b=12)\n        self.add_variable(\"area\", l_b=120, u_b=200)\n        self.add_variable(\"aspect_ratio\", l_b=7, u_b=12)\n\ndesign_space = MyDesignSpace()"
      ]
    },
    {
      "cell_type": "markdown",
      "metadata": {},
      "source": [
        "Then, we create a `DOEScenario` from this\ndiscipline and this design space:\n\n"
      ]
    },
    {
      "cell_type": "code",
      "execution_count": null,
      "metadata": {
        "collapsed": false
      },
      "outputs": [],
      "source": [
        "disciplines = [discipline]\nscenario = create_scenario(\n    disciplines, \"DisciplinaryOpt\", output_parameters[0], design_space, scenario_type=\"DOE\"\n)\nfor parameter in  output_parameters[1:] :\n    scenario.add_observable(parameter)"
      ]
    },
    {
      "cell_type": "markdown",
      "metadata": {},
      "source": [
        "Now, we can sample the discipline to get\n100 evaluations of the airplane parameters :\n\n"
      ]
    },
    {
      "cell_type": "code",
      "execution_count": null,
      "metadata": {
        "collapsed": false
      },
      "outputs": [],
      "source": [
        "scenario.execute({\"algo\": \"OT_OPT_LHS\", \"n_samples\": 100})"
      ]
    },
    {
      "cell_type": "markdown",
      "metadata": {},
      "source": [
        "Lastly,\nwe export the result to an `IODataset`\n\n"
      ]
    },
    {
      "cell_type": "code",
      "execution_count": null,
      "metadata": {
        "collapsed": false
      },
      "outputs": [],
      "source": [
        "dataset = scenario.to_dataset(opt_naming=False)\ndataset"
      ]
    },
    {
      "cell_type": "markdown",
      "metadata": {},
      "source": [
        "## Surrogate modeling\nWe create the surrogate discipline using an RBF model\n\n"
      ]
    },
    {
      "cell_type": "code",
      "execution_count": null,
      "metadata": {
        "collapsed": false
      },
      "outputs": [],
      "source": [
        "surrogate_discipline = create_surrogate(\"RBFRegressor\", dataset)"
      ]
    },
    {
      "cell_type": "markdown",
      "metadata": {},
      "source": [
        "We assess the regression model\nwith the R2 measure for instance:\n\n"
      ]
    },
    {
      "cell_type": "code",
      "execution_count": null,
      "metadata": {
        "collapsed": false
      },
      "outputs": [],
      "source": [
        "r2 = R2Measure(surrogate_discipline.regression_model, True)\nprint('R2 errors')\nprint('learning measure')\nprint(r2.compute_learning_measure())\nprint('validation measure')\nprint(r2.compute_cross_validation_measure())"
      ]
    },
    {
      "cell_type": "markdown",
      "metadata": {},
      "source": [
        "and with the root mean squared error:\n\n"
      ]
    },
    {
      "cell_type": "code",
      "execution_count": null,
      "metadata": {
        "collapsed": false
      },
      "outputs": [],
      "source": [
        "rmse = RMSEMeasure(surrogate_discipline.regression_model, True)\nprint('RMSE measure')\nprint('learning measure')\nprint(rmse.compute_learning_measure())\nprint('validation measure')\nprint(rmse.compute_cross_validation_measure())"
      ]
    },
    {
      "cell_type": "markdown",
      "metadata": {},
      "source": [
        "## Optimization on surrogate model\nNow, we put these elements together in a scenario\nto minimize the maximum take-off weight `MTOW`\nunder the constraints definied in the use case.\n\n"
      ]
    },
    {
      "cell_type": "code",
      "execution_count": null,
      "metadata": {
        "collapsed": false
      },
      "outputs": [],
      "source": [
        "scenario_surrogate = create_scenario([surrogate_discipline], \"DisciplinaryOpt\", \"mtow\", design_space)\nfor parameter in  output_parameters[1:] :\n    scenario.add_observable(parameter)\n\nscenario_surrogate.add_constraint(\"tofl\", constraint_type=\"ineq\", positive=False, value=2200)\nscenario_surrogate.add_constraint(\"vapp\", constraint_type=\"ineq\", positive=False, value=unit.mps_kt(137))\nscenario_surrogate.add_constraint(\"vz_mcl\", constraint_type=\"ineq\", positive=True, value=unit.mps_ftpmin(300))\nscenario_surrogate.add_constraint(\"vz_mcr\", constraint_type=\"ineq\", positive=True, value=unit.mps_ftpmin(0))\nscenario_surrogate.add_constraint(\"oei_path\", constraint_type=\"ineq\", positive=True, value=0.011)\nscenario_surrogate.add_constraint(\"ttc\", constraint_type=\"ineq\", positive=False, value=unit.s_min(25))\nscenario_surrogate.add_constraint(\"far\", constraint_type=\"ineq\", positive=False, value=13.4)"
      ]
    },
    {
      "cell_type": "markdown",
      "metadata": {},
      "source": [
        "before executing it with a gradient-free optimizer:\n\n"
      ]
    },
    {
      "cell_type": "code",
      "execution_count": null,
      "metadata": {
        "collapsed": false
      },
      "outputs": [],
      "source": [
        "start_time = time.time()\nscenario_surrogate.execute({\"algo\": \"NLOPT_COBYLA\", \"max_iter\": 1000})\nprint(\"--- %s seconds ---\" % (time.time() - start_time))"
      ]
    },
    {
      "cell_type": "markdown",
      "metadata": {},
      "source": [
        "Lastly,\nwe can plot the optimization history:\n\n"
      ]
    },
    {
      "cell_type": "code",
      "execution_count": null,
      "metadata": {
        "collapsed": false
      },
      "outputs": [],
      "source": [
        "scenario_surrogate.post_process(\"OptHistoryView\", save=False, show=True)"
      ]
    },
    {
      "cell_type": "markdown",
      "metadata": {},
      "source": [
        "We can print and save the optimized aircraft data:\n\n"
      ]
    },
    {
      "cell_type": "code",
      "execution_count": null,
      "metadata": {
        "collapsed": false
      },
      "outputs": [],
      "source": [
        "optimized_surrogate_design_parameters = surrogate_discipline.get_input_data()\nprint(optimized_surrogate_design_parameters)\n\nwith Path(\"design_parameters.pkl\").open(\"wb\") as f:\n    pickle.dump(optimized_surrogate_design_parameters, f)"
      ]
    },
    {
      "cell_type": "markdown",
      "metadata": {},
      "source": [
        "and draw the aircraft \n\n"
      ]
    },
    {
      "cell_type": "code",
      "execution_count": null,
      "metadata": {
        "collapsed": false
      },
      "outputs": [],
      "source": [
        "draw_aircraft(optimized_surrogate_design_parameters, \"The optimized A/C\")"
      ]
    },
    {
      "cell_type": "markdown",
      "metadata": {},
      "source": [
        "## Errors\nFinally, we verify the error of the surrogate for this optimal design $x^*_{surrogate}$\n\n"
      ]
    },
    {
      "cell_type": "code",
      "execution_count": null,
      "metadata": {
        "collapsed": false
      },
      "outputs": [],
      "source": [
        "output_parameters = discipline.get_output_data_names()\n\nraw_model_output = discipline.execute(optimized_surrogate_design_parameters)\nsurrogate_output = surrogate_discipline.execute(optimized_surrogate_design_parameters)\n\nfor param in output_parameters :\n    difference = abs(raw_model_output[param][0]-surrogate_output[param][0])\n    relative_diffrence = difference / (raw_model_output[param][0]*100)\n    print(f\"parameter {param} difference of {relative_diffrence:.6f} %\")"
      ]
    },
    {
      "cell_type": "markdown",
      "metadata": {},
      "source": [
        "and between the two optimal solutions $x^*_{raw}$ and $x^*_{surrogate}$\n\n"
      ]
    },
    {
      "cell_type": "code",
      "execution_count": null,
      "metadata": {
        "collapsed": false
      },
      "outputs": [],
      "source": [
        "input_parameters = ['thrust', 'bpr', 'area', 'aspect_ratio']\n\nfor param in input_parameters :\n    difference = abs(optimized_surrogate_design_parameters[param][0]-optimized_design_parameters[param][0])\n    relative_diffrence = difference / (optimized_design_parameters[param][0]*100)\n    print(f\"parameter {param} difference of {relative_diffrence:.6f} %\")"
      ]
    }
  ],
  "metadata": {
    "kernelspec": {
      "display_name": "Python 3",
      "language": "python",
      "name": "python3"
    },
    "language_info": {
      "codemirror_mode": {
        "name": "ipython",
        "version": 3
      },
      "file_extension": ".py",
      "mimetype": "text/x-python",
      "name": "python",
      "nbconvert_exporter": "python",
      "pygments_lexer": "ipython3",
      "version": "3.10.12"
    }
  },
  "nbformat": 4,
  "nbformat_minor": 0
}